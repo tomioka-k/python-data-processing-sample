{
 "cells": [
  {
   "cell_type": "code",
   "execution_count": 1,
   "metadata": {},
   "outputs": [
    {
     "data": {
      "text/html": [
       "<div>\n",
       "<style scoped>\n",
       "    .dataframe tbody tr th:only-of-type {\n",
       "        vertical-align: middle;\n",
       "    }\n",
       "\n",
       "    .dataframe tbody tr th {\n",
       "        vertical-align: top;\n",
       "    }\n",
       "\n",
       "    .dataframe thead th {\n",
       "        text-align: right;\n",
       "    }\n",
       "</style>\n",
       "<table border=\"1\" class=\"dataframe\">\n",
       "  <thead>\n",
       "    <tr style=\"text-align: right;\">\n",
       "      <th></th>\n",
       "      <th>id</th>\n",
       "      <th>first_name</th>\n",
       "      <th>last_name</th>\n",
       "      <th>email</th>\n",
       "      <th>gender</th>\n",
       "      <th>ip_address</th>\n",
       "    </tr>\n",
       "  </thead>\n",
       "  <tbody>\n",
       "    <tr>\n",
       "      <th>0</th>\n",
       "      <td>1</td>\n",
       "      <td>Ansell</td>\n",
       "      <td>Long</td>\n",
       "      <td>along0@buzzfeed.com</td>\n",
       "      <td>Bigender</td>\n",
       "      <td>234.24.43.145</td>\n",
       "    </tr>\n",
       "    <tr>\n",
       "      <th>1</th>\n",
       "      <td>2</td>\n",
       "      <td>Jocelyne</td>\n",
       "      <td>Gout</td>\n",
       "      <td>jgout1@goo.ne.jp</td>\n",
       "      <td>Male</td>\n",
       "      <td>82.150.99.250</td>\n",
       "    </tr>\n",
       "    <tr>\n",
       "      <th>2</th>\n",
       "      <td>3</td>\n",
       "      <td>Amie</td>\n",
       "      <td>Strippling</td>\n",
       "      <td>astrippling2@archive.org</td>\n",
       "      <td>Male</td>\n",
       "      <td>77.233.78.125</td>\n",
       "    </tr>\n",
       "    <tr>\n",
       "      <th>3</th>\n",
       "      <td>4</td>\n",
       "      <td>Will</td>\n",
       "      <td>Joppich</td>\n",
       "      <td>wjoppich3@hatena.ne.jp</td>\n",
       "      <td>Genderqueer</td>\n",
       "      <td>130.39.243.41</td>\n",
       "    </tr>\n",
       "    <tr>\n",
       "      <th>4</th>\n",
       "      <td>5</td>\n",
       "      <td>Vite</td>\n",
       "      <td>Dumke</td>\n",
       "      <td>vdumke4@wisc.edu</td>\n",
       "      <td>Female</td>\n",
       "      <td>168.30.161.229</td>\n",
       "    </tr>\n",
       "  </tbody>\n",
       "</table>\n",
       "</div>"
      ],
      "text/plain": [
       "   id first_name   last_name                     email       gender  \\\n",
       "0   1     Ansell        Long       along0@buzzfeed.com     Bigender   \n",
       "1   2   Jocelyne        Gout          jgout1@goo.ne.jp         Male   \n",
       "2   3       Amie  Strippling  astrippling2@archive.org         Male   \n",
       "3   4       Will     Joppich    wjoppich3@hatena.ne.jp  Genderqueer   \n",
       "4   5       Vite       Dumke          vdumke4@wisc.edu       Female   \n",
       "\n",
       "       ip_address  \n",
       "0   234.24.43.145  \n",
       "1   82.150.99.250  \n",
       "2   77.233.78.125  \n",
       "3   130.39.243.41  \n",
       "4  168.30.161.229  "
      ]
     },
     "execution_count": 1,
     "metadata": {},
     "output_type": "execute_result"
    }
   ],
   "source": [
    "import pandas as pd\n",
    "\n",
    "df = pd.read_csv('../sample/sample3.csv')\n",
    "df.head()"
   ]
  },
  {
   "cell_type": "code",
   "execution_count": 2,
   "metadata": {},
   "outputs": [],
   "source": [
    "df.to_csv('../sample/export_data.csv')"
   ]
  },
  {
   "cell_type": "code",
   "execution_count": 3,
   "metadata": {},
   "outputs": [],
   "source": [
    "df.to_csv('../sample/export_data_i.csv', index=False)"
   ]
  },
  {
   "cell_type": "code",
   "execution_count": 4,
   "metadata": {},
   "outputs": [],
   "source": [
    "df.to_excel(\"../sample/export_data.xlsx\")"
   ]
  },
  {
   "cell_type": "code",
   "execution_count": 5,
   "metadata": {},
   "outputs": [],
   "source": [
    "df.to_excel(\"../sample/export_data_i.xlsx\", index=False, header=False)"
   ]
  },
  {
   "cell_type": "code",
   "execution_count": 6,
   "metadata": {},
   "outputs": [],
   "source": [
    "df2 = df\n",
    "\n",
    "with pd.ExcelWriter(\"../sample/export_data_sheet.xlsx\") as EW:\n",
    "    df.to_excel(EW, index=False, sheet_name=\"df1\")\n",
    "    df2.to_excel(EW, index=False, sheet_name=\"df2\")"
   ]
  },
  {
   "cell_type": "code",
   "execution_count": 7,
   "metadata": {},
   "outputs": [
    {
     "data": {
      "text/plain": [
       "{'id': {0: 1, 1: 2, 2: 3, 3: 4, 4: 5},\n",
       " 'first_name': {0: 'Ansell', 1: 'Jocelyne', 2: 'Amie', 3: 'Will', 4: 'Vite'},\n",
       " 'last_name': {0: 'Long',\n",
       "  1: 'Gout',\n",
       "  2: 'Strippling',\n",
       "  3: 'Joppich',\n",
       "  4: 'Dumke'},\n",
       " 'email': {0: 'along0@buzzfeed.com',\n",
       "  1: 'jgout1@goo.ne.jp',\n",
       "  2: 'astrippling2@archive.org',\n",
       "  3: 'wjoppich3@hatena.ne.jp',\n",
       "  4: 'vdumke4@wisc.edu'},\n",
       " 'gender': {0: 'Bigender',\n",
       "  1: 'Male',\n",
       "  2: 'Male',\n",
       "  3: 'Genderqueer',\n",
       "  4: 'Female'},\n",
       " 'ip_address': {0: '234.24.43.145',\n",
       "  1: '82.150.99.250',\n",
       "  2: '77.233.78.125',\n",
       "  3: '130.39.243.41',\n",
       "  4: '168.30.161.229'}}"
      ]
     },
     "execution_count": 7,
     "metadata": {},
     "output_type": "execute_result"
    }
   ],
   "source": [
    "df.to_dict()"
   ]
  },
  {
   "cell_type": "code",
   "execution_count": 8,
   "metadata": {},
   "outputs": [
    {
     "data": {
      "text/plain": [
       "{0: {'id': 1,\n",
       "  'first_name': 'Ansell',\n",
       "  'last_name': 'Long',\n",
       "  'email': 'along0@buzzfeed.com',\n",
       "  'gender': 'Bigender',\n",
       "  'ip_address': '234.24.43.145'},\n",
       " 1: {'id': 2,\n",
       "  'first_name': 'Jocelyne',\n",
       "  'last_name': 'Gout',\n",
       "  'email': 'jgout1@goo.ne.jp',\n",
       "  'gender': 'Male',\n",
       "  'ip_address': '82.150.99.250'},\n",
       " 2: {'id': 3,\n",
       "  'first_name': 'Amie',\n",
       "  'last_name': 'Strippling',\n",
       "  'email': 'astrippling2@archive.org',\n",
       "  'gender': 'Male',\n",
       "  'ip_address': '77.233.78.125'},\n",
       " 3: {'id': 4,\n",
       "  'first_name': 'Will',\n",
       "  'last_name': 'Joppich',\n",
       "  'email': 'wjoppich3@hatena.ne.jp',\n",
       "  'gender': 'Genderqueer',\n",
       "  'ip_address': '130.39.243.41'},\n",
       " 4: {'id': 5,\n",
       "  'first_name': 'Vite',\n",
       "  'last_name': 'Dumke',\n",
       "  'email': 'vdumke4@wisc.edu',\n",
       "  'gender': 'Female',\n",
       "  'ip_address': '168.30.161.229'}}"
      ]
     },
     "execution_count": 8,
     "metadata": {},
     "output_type": "execute_result"
    }
   ],
   "source": [
    "df_dict = df.to_dict(orient=\"index\")\n",
    "df_dict"
   ]
  }
 ],
 "metadata": {
  "interpreter": {
   "hash": "16b5c631151126e7b3632854bfee544698d26383a68deaab0863072cdadff451"
  },
  "kernelspec": {
   "display_name": "Python 3.10.1 ('.venv': venv)",
   "language": "python",
   "name": "python3"
  },
  "language_info": {
   "codemirror_mode": {
    "name": "ipython",
    "version": 3
   },
   "file_extension": ".py",
   "mimetype": "text/x-python",
   "name": "python",
   "nbconvert_exporter": "python",
   "pygments_lexer": "ipython3",
   "version": "3.10.1"
  },
  "orig_nbformat": 4
 },
 "nbformat": 4,
 "nbformat_minor": 2
}
