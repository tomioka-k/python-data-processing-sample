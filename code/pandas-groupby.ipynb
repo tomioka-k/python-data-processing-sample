{
 "cells": [
  {
   "cell_type": "markdown",
   "metadata": {},
   "source": [
    "# 【pandas】groupbyでデータフレームをまとめる方法"
   ]
  },
  {
   "cell_type": "markdown",
   "metadata": {},
   "source": [
    "## サンプルデータの作成"
   ]
  },
  {
   "cell_type": "code",
   "execution_count": 1,
   "metadata": {},
   "outputs": [],
   "source": [
    "import numpy as np\n",
    "import pandas as pd\n",
    "from pandas import DataFrame\n",
    "import matplotlib.pyplot as plt\n",
    "%matplotlib inline"
   ]
  },
  {
   "cell_type": "code",
   "execution_count": 2,
   "metadata": {},
   "outputs": [],
   "source": [
    "df = DataFrame({'C1':[\"A\",\"B\",\"B\",\"C\",\"C\"],\n",
    "               'C2':[\"TKO\",\"HKD\",\"OSK\",\"CBA\",\"TKO\"],\n",
    "               'data1':np.random.randn(5),\n",
    "               'data2':np.random.randn(5)})"
   ]
  },
  {
   "cell_type": "code",
   "execution_count": 3,
   "metadata": {},
   "outputs": [
    {
     "data": {
      "text/html": [
       "<div>\n",
       "<style scoped>\n",
       "    .dataframe tbody tr th:only-of-type {\n",
       "        vertical-align: middle;\n",
       "    }\n",
       "\n",
       "    .dataframe tbody tr th {\n",
       "        vertical-align: top;\n",
       "    }\n",
       "\n",
       "    .dataframe thead th {\n",
       "        text-align: right;\n",
       "    }\n",
       "</style>\n",
       "<table border=\"1\" class=\"dataframe\">\n",
       "  <thead>\n",
       "    <tr style=\"text-align: right;\">\n",
       "      <th></th>\n",
       "      <th>C1</th>\n",
       "      <th>C2</th>\n",
       "      <th>data1</th>\n",
       "      <th>data2</th>\n",
       "    </tr>\n",
       "  </thead>\n",
       "  <tbody>\n",
       "    <tr>\n",
       "      <th>0</th>\n",
       "      <td>A</td>\n",
       "      <td>TKO</td>\n",
       "      <td>-1.191208</td>\n",
       "      <td>0.646622</td>\n",
       "    </tr>\n",
       "    <tr>\n",
       "      <th>1</th>\n",
       "      <td>B</td>\n",
       "      <td>HKD</td>\n",
       "      <td>-1.530322</td>\n",
       "      <td>-0.990311</td>\n",
       "    </tr>\n",
       "    <tr>\n",
       "      <th>2</th>\n",
       "      <td>B</td>\n",
       "      <td>OSK</td>\n",
       "      <td>-2.323434</td>\n",
       "      <td>-1.357766</td>\n",
       "    </tr>\n",
       "    <tr>\n",
       "      <th>3</th>\n",
       "      <td>C</td>\n",
       "      <td>CBA</td>\n",
       "      <td>1.264419</td>\n",
       "      <td>2.082788</td>\n",
       "    </tr>\n",
       "    <tr>\n",
       "      <th>4</th>\n",
       "      <td>C</td>\n",
       "      <td>TKO</td>\n",
       "      <td>-0.547709</td>\n",
       "      <td>-1.349788</td>\n",
       "    </tr>\n",
       "  </tbody>\n",
       "</table>\n",
       "</div>"
      ],
      "text/plain": [
       "  C1   C2     data1     data2\n",
       "0  A  TKO -1.191208  0.646622\n",
       "1  B  HKD -1.530322 -0.990311\n",
       "2  B  OSK -2.323434 -1.357766\n",
       "3  C  CBA  1.264419  2.082788\n",
       "4  C  TKO -0.547709 -1.349788"
      ]
     },
     "execution_count": 3,
     "metadata": {},
     "output_type": "execute_result"
    }
   ],
   "source": [
    "df"
   ]
  },
  {
   "cell_type": "markdown",
   "metadata": {},
   "source": [
    "## groupbyの使い方"
   ]
  },
  {
   "cell_type": "markdown",
   "metadata": {},
   "source": [
    "### 基本的な使い方"
   ]
  },
  {
   "cell_type": "code",
   "execution_count": 4,
   "metadata": {},
   "outputs": [
    {
     "data": {
      "text/plain": [
       "<pandas.core.groupby.generic.DataFrameGroupBy object at 0x000002E0F56267D0>"
      ]
     },
     "execution_count": 4,
     "metadata": {},
     "output_type": "execute_result"
    }
   ],
   "source": [
    "g1 = df.groupby(\"C1\")\n",
    "g1"
   ]
  },
  {
   "cell_type": "code",
   "execution_count": 5,
   "metadata": {},
   "outputs": [
    {
     "data": {
      "text/html": [
       "<div>\n",
       "<style scoped>\n",
       "    .dataframe tbody tr th:only-of-type {\n",
       "        vertical-align: middle;\n",
       "    }\n",
       "\n",
       "    .dataframe tbody tr th {\n",
       "        vertical-align: top;\n",
       "    }\n",
       "\n",
       "    .dataframe thead th {\n",
       "        text-align: right;\n",
       "    }\n",
       "</style>\n",
       "<table border=\"1\" class=\"dataframe\">\n",
       "  <thead>\n",
       "    <tr style=\"text-align: right;\">\n",
       "      <th></th>\n",
       "      <th>data1</th>\n",
       "      <th>data2</th>\n",
       "    </tr>\n",
       "    <tr>\n",
       "      <th>C1</th>\n",
       "      <th></th>\n",
       "      <th></th>\n",
       "    </tr>\n",
       "  </thead>\n",
       "  <tbody>\n",
       "    <tr>\n",
       "      <th>A</th>\n",
       "      <td>-1.191208</td>\n",
       "      <td>0.646622</td>\n",
       "    </tr>\n",
       "    <tr>\n",
       "      <th>B</th>\n",
       "      <td>-3.853756</td>\n",
       "      <td>-2.348077</td>\n",
       "    </tr>\n",
       "    <tr>\n",
       "      <th>C</th>\n",
       "      <td>0.716710</td>\n",
       "      <td>0.733000</td>\n",
       "    </tr>\n",
       "  </tbody>\n",
       "</table>\n",
       "</div>"
      ],
      "text/plain": [
       "       data1     data2\n",
       "C1                    \n",
       "A  -1.191208  0.646622\n",
       "B  -3.853756 -2.348077\n",
       "C   0.716710  0.733000"
      ]
     },
     "execution_count": 5,
     "metadata": {},
     "output_type": "execute_result"
    }
   ],
   "source": [
    "g1.sum()"
   ]
  },
  {
   "cell_type": "code",
   "execution_count": 6,
   "metadata": {},
   "outputs": [
    {
     "data": {
      "text/plain": [
       "<matplotlib.legend.Legend at 0x2e0dc85e710>"
      ]
     },
     "execution_count": 6,
     "metadata": {},
     "output_type": "execute_result"
    },
    {
     "data": {
      "image/png": "[encoded data removed]",
      "text/plain": [
       "<Figure size 432x288 with 1 Axes>"
      ]
     },
     "metadata": {
      "needs_background": "light"
     },
     "output_type": "display_data"
    }
   ],
   "source": [
    "g1.sum().plot(kind=\"barh\")\n",
    "plt.legend(loc=\"lower right\")"
   ]
  },
  {
   "cell_type": "markdown",
   "metadata": {},
   "source": [
    "### 複数のグループ"
   ]
  },
  {
   "cell_type": "code",
   "execution_count": 7,
   "metadata": {},
   "outputs": [
    {
     "data": {
      "text/html": [
       "<div>\n",
       "<style scoped>\n",
       "    .dataframe tbody tr th:only-of-type {\n",
       "        vertical-align: middle;\n",
       "    }\n",
       "\n",
       "    .dataframe tbody tr th {\n",
       "        vertical-align: top;\n",
       "    }\n",
       "\n",
       "    .dataframe thead th {\n",
       "        text-align: right;\n",
       "    }\n",
       "</style>\n",
       "<table border=\"1\" class=\"dataframe\">\n",
       "  <thead>\n",
       "    <tr style=\"text-align: right;\">\n",
       "      <th></th>\n",
       "      <th></th>\n",
       "      <th>data1</th>\n",
       "      <th>data2</th>\n",
       "    </tr>\n",
       "    <tr>\n",
       "      <th>C1</th>\n",
       "      <th>C2</th>\n",
       "      <th></th>\n",
       "      <th></th>\n",
       "    </tr>\n",
       "  </thead>\n",
       "  <tbody>\n",
       "    <tr>\n",
       "      <th>A</th>\n",
       "      <th>TKO</th>\n",
       "      <td>-1.191208</td>\n",
       "      <td>0.646622</td>\n",
       "    </tr>\n",
       "    <tr>\n",
       "      <th rowspan=\"2\" valign=\"top\">B</th>\n",
       "      <th>HKD</th>\n",
       "      <td>-1.530322</td>\n",
       "      <td>-0.990311</td>\n",
       "    </tr>\n",
       "    <tr>\n",
       "      <th>OSK</th>\n",
       "      <td>-2.323434</td>\n",
       "      <td>-1.357766</td>\n",
       "    </tr>\n",
       "    <tr>\n",
       "      <th rowspan=\"2\" valign=\"top\">C</th>\n",
       "      <th>CBA</th>\n",
       "      <td>1.264419</td>\n",
       "      <td>2.082788</td>\n",
       "    </tr>\n",
       "    <tr>\n",
       "      <th>TKO</th>\n",
       "      <td>-0.547709</td>\n",
       "      <td>-1.349788</td>\n",
       "    </tr>\n",
       "  </tbody>\n",
       "</table>\n",
       "</div>"
      ],
      "text/plain": [
       "           data1     data2\n",
       "C1 C2                     \n",
       "A  TKO -1.191208  0.646622\n",
       "B  HKD -1.530322 -0.990311\n",
       "   OSK -2.323434 -1.357766\n",
       "C  CBA  1.264419  2.082788\n",
       "   TKO -0.547709 -1.349788"
      ]
     },
     "execution_count": 7,
     "metadata": {},
     "output_type": "execute_result"
    }
   ],
   "source": [
    "g2 = df.groupby([\"C1\",\"C2\"])\n",
    "g2.sum()"
   ]
  },
  {
   "cell_type": "code",
   "execution_count": 8,
   "metadata": {},
   "outputs": [
    {
     "data": {
      "text/plain": [
       "<AxesSubplot:ylabel='C1,C2'>"
      ]
     },
     "execution_count": 8,
     "metadata": {},
     "output_type": "execute_result"
    },
    {
     "data": {
      "image/png": "[encoded data removed]",
      "text/plain": [
       "<Figure size 432x288 with 1 Axes>"
      ]
     },
     "metadata": {
      "needs_background": "light"
     },
     "output_type": "display_data"
    }
   ],
   "source": [
    "g2.sum().plot(kind=\"barh\")"
   ]
  },
  {
   "cell_type": "markdown",
   "metadata": {},
   "source": [
    "### カラムの範囲の指定方法"
   ]
  },
  {
   "cell_type": "code",
   "execution_count": 9,
   "metadata": {},
   "outputs": [
    {
     "data": {
      "text/html": [
       "<div>\n",
       "<style scoped>\n",
       "    .dataframe tbody tr th:only-of-type {\n",
       "        vertical-align: middle;\n",
       "    }\n",
       "\n",
       "    .dataframe tbody tr th {\n",
       "        vertical-align: top;\n",
       "    }\n",
       "\n",
       "    .dataframe thead th {\n",
       "        text-align: right;\n",
       "    }\n",
       "</style>\n",
       "<table border=\"1\" class=\"dataframe\">\n",
       "  <thead>\n",
       "    <tr style=\"text-align: right;\">\n",
       "      <th></th>\n",
       "      <th></th>\n",
       "      <th>data1</th>\n",
       "    </tr>\n",
       "    <tr>\n",
       "      <th>C1</th>\n",
       "      <th>C2</th>\n",
       "      <th></th>\n",
       "    </tr>\n",
       "  </thead>\n",
       "  <tbody>\n",
       "    <tr>\n",
       "      <th>A</th>\n",
       "      <th>TKO</th>\n",
       "      <td>-1.191208</td>\n",
       "    </tr>\n",
       "    <tr>\n",
       "      <th rowspan=\"2\" valign=\"top\">B</th>\n",
       "      <th>HKD</th>\n",
       "      <td>-1.530322</td>\n",
       "    </tr>\n",
       "    <tr>\n",
       "      <th>OSK</th>\n",
       "      <td>-2.323434</td>\n",
       "    </tr>\n",
       "    <tr>\n",
       "      <th rowspan=\"2\" valign=\"top\">C</th>\n",
       "      <th>CBA</th>\n",
       "      <td>1.264419</td>\n",
       "    </tr>\n",
       "    <tr>\n",
       "      <th>TKO</th>\n",
       "      <td>-0.547709</td>\n",
       "    </tr>\n",
       "  </tbody>\n",
       "</table>\n",
       "</div>"
      ],
      "text/plain": [
       "           data1\n",
       "C1 C2           \n",
       "A  TKO -1.191208\n",
       "B  HKD -1.530322\n",
       "   OSK -2.323434\n",
       "C  CBA  1.264419\n",
       "   TKO -0.547709"
      ]
     },
     "execution_count": 9,
     "metadata": {},
     "output_type": "execute_result"
    }
   ],
   "source": [
    "g3 = df.groupby([\"C1\",\"C2\"])[['data1']]\n",
    "g3.mean()"
   ]
  },
  {
   "cell_type": "markdown",
   "metadata": {},
   "source": [
    "### インデックスにしない場合\n",
    "引数としてas_index=Falseとする"
   ]
  },
  {
   "cell_type": "code",
   "execution_count": 10,
   "metadata": {},
   "outputs": [
    {
     "data": {
      "text/html": [
       "<div>\n",
       "<style scoped>\n",
       "    .dataframe tbody tr th:only-of-type {\n",
       "        vertical-align: middle;\n",
       "    }\n",
       "\n",
       "    .dataframe tbody tr th {\n",
       "        vertical-align: top;\n",
       "    }\n",
       "\n",
       "    .dataframe thead th {\n",
       "        text-align: right;\n",
       "    }\n",
       "</style>\n",
       "<table border=\"1\" class=\"dataframe\">\n",
       "  <thead>\n",
       "    <tr style=\"text-align: right;\">\n",
       "      <th></th>\n",
       "      <th>C1</th>\n",
       "      <th>C2</th>\n",
       "      <th>data1</th>\n",
       "      <th>data2</th>\n",
       "    </tr>\n",
       "  </thead>\n",
       "  <tbody>\n",
       "    <tr>\n",
       "      <th>0</th>\n",
       "      <td>A</td>\n",
       "      <td>TKO</td>\n",
       "      <td>-1.191208</td>\n",
       "      <td>0.646622</td>\n",
       "    </tr>\n",
       "    <tr>\n",
       "      <th>1</th>\n",
       "      <td>B</td>\n",
       "      <td>HKD</td>\n",
       "      <td>-1.530322</td>\n",
       "      <td>-0.990311</td>\n",
       "    </tr>\n",
       "    <tr>\n",
       "      <th>2</th>\n",
       "      <td>B</td>\n",
       "      <td>OSK</td>\n",
       "      <td>-2.323434</td>\n",
       "      <td>-1.357766</td>\n",
       "    </tr>\n",
       "    <tr>\n",
       "      <th>3</th>\n",
       "      <td>C</td>\n",
       "      <td>CBA</td>\n",
       "      <td>1.264419</td>\n",
       "      <td>2.082788</td>\n",
       "    </tr>\n",
       "    <tr>\n",
       "      <th>4</th>\n",
       "      <td>C</td>\n",
       "      <td>TKO</td>\n",
       "      <td>-0.547709</td>\n",
       "      <td>-1.349788</td>\n",
       "    </tr>\n",
       "  </tbody>\n",
       "</table>\n",
       "</div>"
      ],
      "text/plain": [
       "  C1   C2     data1     data2\n",
       "0  A  TKO -1.191208  0.646622\n",
       "1  B  HKD -1.530322 -0.990311\n",
       "2  B  OSK -2.323434 -1.357766\n",
       "3  C  CBA  1.264419  2.082788\n",
       "4  C  TKO -0.547709 -1.349788"
      ]
     },
     "execution_count": 10,
     "metadata": {},
     "output_type": "execute_result"
    }
   ],
   "source": [
    "g4 = df.groupby([\"C1\",\"C2\"], as_index=False)\n",
    "g4.mean()"
   ]
  },
  {
   "cell_type": "markdown",
   "metadata": {},
   "source": [
    "### 組み込み関数の種類"
   ]
  },
  {
   "cell_type": "markdown",
   "metadata": {},
   "source": [
    "<table>\n",
    "  <tbody>\n",
    "    <tr>\n",
    "      <td>関数</td>\n",
    "      <td>説明</td>\n",
    "    </tr>\n",
    "    <tr>\n",
    "      <td>mean()</td>\n",
    "      <td>平均</td>\n",
    "    </tr>\n",
    "    <tr>\n",
    "      <td>sum()</td>\n",
    "      <td>合計</td>\n",
    "    </tr>\n",
    "    <tr>\n",
    "      <td>size()</td>\n",
    "      <td>グループの大きさ</td>\n",
    "    </tr>\n",
    "    <tr>\n",
    "      <td>count()</td>\n",
    "      <td>グループのデータ個数</td>\n",
    "    </tr>\n",
    "    <tr>\n",
    "      <td>std()</td>\n",
    "      <td>標準偏差</td>\n",
    "    </tr>\n",
    "    <tr>\n",
    "      <td>describe()</td>\n",
    "      <td>グループ内の統計量</td>\n",
    "    </tr>\n",
    "    <tr>\n",
    "      <td>first()</td>\n",
    "      <td>グループ内の先頭</td>\n",
    "    </tr>\n",
    "    <tr>\n",
    "      <td>last()</td>\n",
    "      <td>グループ内の最後</td>\n",
    "    </tr>\n",
    "          <td>min()</td>\n",
    "      <td>最小値</td>\n",
    "    </tr>\n",
    "    <tr>\n",
    "      <td>max()</td>\n",
    "      <td>最大値</td>\n",
    "    </tr>\n",
    "  </tbody>\n",
    "</table>"
   ]
  },
  {
   "cell_type": "markdown",
   "metadata": {},
   "source": [
    "## 任意の処理をする"
   ]
  },
  {
   "cell_type": "code",
   "execution_count": 11,
   "metadata": {},
   "outputs": [
    {
     "data": {
      "text/html": [
       "<div>\n",
       "<style scoped>\n",
       "    .dataframe tbody tr th:only-of-type {\n",
       "        vertical-align: middle;\n",
       "    }\n",
       "\n",
       "    .dataframe tbody tr th {\n",
       "        vertical-align: top;\n",
       "    }\n",
       "\n",
       "    .dataframe thead th {\n",
       "        text-align: right;\n",
       "    }\n",
       "</style>\n",
       "<table border=\"1\" class=\"dataframe\">\n",
       "  <thead>\n",
       "    <tr style=\"text-align: right;\">\n",
       "      <th></th>\n",
       "      <th></th>\n",
       "      <th>data1</th>\n",
       "      <th>data2</th>\n",
       "    </tr>\n",
       "    <tr>\n",
       "      <th>C1</th>\n",
       "      <th>C2</th>\n",
       "      <th></th>\n",
       "      <th></th>\n",
       "    </tr>\n",
       "  </thead>\n",
       "  <tbody>\n",
       "    <tr>\n",
       "      <th>A</th>\n",
       "      <th>TKO</th>\n",
       "      <td>-1.191208</td>\n",
       "      <td>0.646622</td>\n",
       "    </tr>\n",
       "    <tr>\n",
       "      <th rowspan=\"2\" valign=\"top\">B</th>\n",
       "      <th>HKD</th>\n",
       "      <td>-1.530322</td>\n",
       "      <td>-0.990311</td>\n",
       "    </tr>\n",
       "    <tr>\n",
       "      <th>OSK</th>\n",
       "      <td>-2.323434</td>\n",
       "      <td>-1.357766</td>\n",
       "    </tr>\n",
       "    <tr>\n",
       "      <th rowspan=\"2\" valign=\"top\">C</th>\n",
       "      <th>CBA</th>\n",
       "      <td>1.264419</td>\n",
       "      <td>2.082788</td>\n",
       "    </tr>\n",
       "    <tr>\n",
       "      <th>TKO</th>\n",
       "      <td>-0.547709</td>\n",
       "      <td>-1.349788</td>\n",
       "    </tr>\n",
       "  </tbody>\n",
       "</table>\n",
       "</div>"
      ],
      "text/plain": [
       "           data1     data2\n",
       "C1 C2                     \n",
       "A  TKO -1.191208  0.646622\n",
       "B  HKD -1.530322 -0.990311\n",
       "   OSK -2.323434 -1.357766\n",
       "C  CBA  1.264419  2.082788\n",
       "   TKO -0.547709 -1.349788"
      ]
     },
     "execution_count": 11,
     "metadata": {},
     "output_type": "execute_result"
    }
   ],
   "source": [
    "g5 = df.groupby([\"C1\",\"C2\"]).agg(np.max)\n",
    "g5"
   ]
  },
  {
   "cell_type": "code",
   "execution_count": 12,
   "metadata": {},
   "outputs": [
    {
     "data": {
      "text/html": [
       "<div>\n",
       "<style scoped>\n",
       "    .dataframe tbody tr th:only-of-type {\n",
       "        vertical-align: middle;\n",
       "    }\n",
       "\n",
       "    .dataframe tbody tr th {\n",
       "        vertical-align: top;\n",
       "    }\n",
       "\n",
       "    .dataframe thead tr th {\n",
       "        text-align: left;\n",
       "    }\n",
       "\n",
       "    .dataframe thead tr:last-of-type th {\n",
       "        text-align: right;\n",
       "    }\n",
       "</style>\n",
       "<table border=\"1\" class=\"dataframe\">\n",
       "  <thead>\n",
       "    <tr>\n",
       "      <th></th>\n",
       "      <th></th>\n",
       "      <th colspan=\"2\" halign=\"left\">data1</th>\n",
       "      <th colspan=\"2\" halign=\"left\">data2</th>\n",
       "    </tr>\n",
       "    <tr>\n",
       "      <th></th>\n",
       "      <th></th>\n",
       "      <th>amax</th>\n",
       "      <th>amin</th>\n",
       "      <th>amax</th>\n",
       "      <th>amin</th>\n",
       "    </tr>\n",
       "    <tr>\n",
       "      <th>C1</th>\n",
       "      <th>C2</th>\n",
       "      <th></th>\n",
       "      <th></th>\n",
       "      <th></th>\n",
       "      <th></th>\n",
       "    </tr>\n",
       "  </thead>\n",
       "  <tbody>\n",
       "    <tr>\n",
       "      <th>A</th>\n",
       "      <th>TKO</th>\n",
       "      <td>-1.191208</td>\n",
       "      <td>-1.191208</td>\n",
       "      <td>0.646622</td>\n",
       "      <td>0.646622</td>\n",
       "    </tr>\n",
       "    <tr>\n",
       "      <th rowspan=\"2\" valign=\"top\">B</th>\n",
       "      <th>HKD</th>\n",
       "      <td>-1.530322</td>\n",
       "      <td>-1.530322</td>\n",
       "      <td>-0.990311</td>\n",
       "      <td>-0.990311</td>\n",
       "    </tr>\n",
       "    <tr>\n",
       "      <th>OSK</th>\n",
       "      <td>-2.323434</td>\n",
       "      <td>-2.323434</td>\n",
       "      <td>-1.357766</td>\n",
       "      <td>-1.357766</td>\n",
       "    </tr>\n",
       "    <tr>\n",
       "      <th rowspan=\"2\" valign=\"top\">C</th>\n",
       "      <th>CBA</th>\n",
       "      <td>1.264419</td>\n",
       "      <td>1.264419</td>\n",
       "      <td>2.082788</td>\n",
       "      <td>2.082788</td>\n",
       "    </tr>\n",
       "    <tr>\n",
       "      <th>TKO</th>\n",
       "      <td>-0.547709</td>\n",
       "      <td>-0.547709</td>\n",
       "      <td>-1.349788</td>\n",
       "      <td>-1.349788</td>\n",
       "    </tr>\n",
       "  </tbody>\n",
       "</table>\n",
       "</div>"
      ],
      "text/plain": [
       "           data1               data2          \n",
       "            amax      amin      amax      amin\n",
       "C1 C2                                         \n",
       "A  TKO -1.191208 -1.191208  0.646622  0.646622\n",
       "B  HKD -1.530322 -1.530322 -0.990311 -0.990311\n",
       "   OSK -2.323434 -2.323434 -1.357766 -1.357766\n",
       "C  CBA  1.264419  1.264419  2.082788  2.082788\n",
       "   TKO -0.547709 -0.547709 -1.349788 -1.349788"
      ]
     },
     "execution_count": 12,
     "metadata": {},
     "output_type": "execute_result"
    }
   ],
   "source": [
    "g6 = df.groupby([\"C1\",\"C2\"]).agg([np.max, np.min])\n",
    "g6"
   ]
  },
  {
   "cell_type": "code",
   "execution_count": 13,
   "metadata": {},
   "outputs": [
    {
     "data": {
      "text/html": [
       "<div>\n",
       "<style scoped>\n",
       "    .dataframe tbody tr th:only-of-type {\n",
       "        vertical-align: middle;\n",
       "    }\n",
       "\n",
       "    .dataframe tbody tr th {\n",
       "        vertical-align: top;\n",
       "    }\n",
       "\n",
       "    .dataframe thead th {\n",
       "        text-align: right;\n",
       "    }\n",
       "</style>\n",
       "<table border=\"1\" class=\"dataframe\">\n",
       "  <thead>\n",
       "    <tr style=\"text-align: right;\">\n",
       "      <th></th>\n",
       "      <th></th>\n",
       "      <th>data1</th>\n",
       "      <th>data2</th>\n",
       "    </tr>\n",
       "    <tr>\n",
       "      <th>C1</th>\n",
       "      <th>C2</th>\n",
       "      <th></th>\n",
       "      <th></th>\n",
       "    </tr>\n",
       "  </thead>\n",
       "  <tbody>\n",
       "    <tr>\n",
       "      <th>A</th>\n",
       "      <th>TKO</th>\n",
       "      <td>-1.191208</td>\n",
       "      <td>0.646622</td>\n",
       "    </tr>\n",
       "    <tr>\n",
       "      <th rowspan=\"2\" valign=\"top\">B</th>\n",
       "      <th>HKD</th>\n",
       "      <td>-1.530322</td>\n",
       "      <td>-0.990311</td>\n",
       "    </tr>\n",
       "    <tr>\n",
       "      <th>OSK</th>\n",
       "      <td>-2.323434</td>\n",
       "      <td>-1.357766</td>\n",
       "    </tr>\n",
       "    <tr>\n",
       "      <th rowspan=\"2\" valign=\"top\">C</th>\n",
       "      <th>CBA</th>\n",
       "      <td>1.264419</td>\n",
       "      <td>2.082788</td>\n",
       "    </tr>\n",
       "    <tr>\n",
       "      <th>TKO</th>\n",
       "      <td>-0.547709</td>\n",
       "      <td>-1.349788</td>\n",
       "    </tr>\n",
       "  </tbody>\n",
       "</table>\n",
       "</div>"
      ],
      "text/plain": [
       "           data1     data2\n",
       "C1 C2                     \n",
       "A  TKO -1.191208  0.646622\n",
       "B  HKD -1.530322 -0.990311\n",
       "   OSK -2.323434 -1.357766\n",
       "C  CBA  1.264419  2.082788\n",
       "   TKO -0.547709 -1.349788"
      ]
     },
     "execution_count": 13,
     "metadata": {},
     "output_type": "execute_result"
    }
   ],
   "source": [
    "def max_func(x):\n",
    "    return max(x)\n",
    "\n",
    "g7 =  df.groupby([\"C1\",\"C2\"]).agg(max_func)\n",
    "g7"
   ]
  }
 ],
 "metadata": {
  "kernelspec": {
   "display_name": "Python 3",
   "language": "python",
   "name": "python3"
  },
  "language_info": {
   "codemirror_mode": {
    "name": "ipython",
    "version": 3
   },
   "file_extension": ".py",
   "mimetype": "text/x-python",
   "name": "python",
   "nbconvert_exporter": "python",
   "pygments_lexer": "ipython3",
   "version": "3.10.1"
  }
 },
 "nbformat": 4,
 "nbformat_minor": 4
}
